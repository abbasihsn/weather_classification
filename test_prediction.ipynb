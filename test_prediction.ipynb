{
 "cells": [
  {
   "cell_type": "markdown",
   "metadata": {},
   "source": [
    "# Load image"
   ]
  },
  {
   "cell_type": "code",
   "execution_count": 1,
   "metadata": {},
   "outputs": [
    {
     "name": "stderr",
     "output_type": "stream",
     "text": [
      "2024-03-31 11:56:58.618325: I tensorflow/core/platform/cpu_feature_guard.cc:210] This TensorFlow binary is optimized to use available CPU instructions in performance-critical operations.\n",
      "To enable the following instructions: AVX2 FMA, in other operations, rebuild TensorFlow with the appropriate compiler flags.\n"
     ]
    },
    {
     "name": "stdout",
     "output_type": "stream",
     "text": [
      "(1, 224, 224, 3)\n"
     ]
    }
   ],
   "source": [
    "from tensorflow.keras.models import load_model\n",
    "from tensorflow.keras.preprocessing import image\n",
    "import numpy as np\n",
    "conditions = ['Day', 'Foggy', 'Night', 'Rain', 'Snow']\n",
    "image_path = \"./data/train/day/day_0.jpg\"\n",
    "target_size = (224, 224)\n",
    "img = image.load_img(image_path, target_size=target_size)\n",
    "img_array = image.img_to_array(img)    \n",
    "img_array_expanded_dims = np.expand_dims(img_array, axis=0)\n",
    "print(img_array_expanded_dims.shape)\n"
   ]
  },
  {
   "cell_type": "markdown",
   "metadata": {},
   "source": [
    "# Model 1"
   ]
  },
  {
   "cell_type": "code",
   "execution_count": 2,
   "metadata": {},
   "outputs": [
    {
     "name": "stdout",
     "output_type": "stream",
     "text": [
      "\u001b[1m1/1\u001b[0m \u001b[32m━━━━━━━━━━━━━━━━━━━━\u001b[0m\u001b[37m\u001b[0m \u001b[1m0s\u001b[0m 181ms/step\n",
      "predicted class: Day - probabilities: [[9.4371128e-01 2.6586300e-05 4.1647288e-03 4.3112107e-02 8.9853322e-03]]\n"
     ]
    }
   ],
   "source": [
    "model = load_model(\"./models/model_1.keras\")\n",
    "probabilities = model.predict(img_array_expanded_dims)\n",
    "predicted_class = np.argmax(probabilities)\n",
    "print(f\"predicted class: {conditions[predicted_class]} - probabilities: {probabilities}\")"
   ]
  },
  {
   "cell_type": "markdown",
   "metadata": {},
   "source": [
    "# Model 2"
   ]
  },
  {
   "cell_type": "code",
   "execution_count": 3,
   "metadata": {},
   "outputs": [
    {
     "name": "stdout",
     "output_type": "stream",
     "text": [
      "\u001b[1m1/1\u001b[0m \u001b[32m━━━━━━━━━━━━━━━━━━━━\u001b[0m\u001b[37m\u001b[0m \u001b[1m1s\u001b[0m 654ms/step\n",
      "predicted class: Day - probabilities: [[1. 0. 0. 0. 0.]]\n"
     ]
    }
   ],
   "source": [
    "model = load_model(\"./models/model_2.keras\")\n",
    "probabilities = model.predict(img_array_expanded_dims)\n",
    "predicted_class = np.argmax(probabilities)\n",
    "print(f\"predicted class: {conditions[predicted_class]} - probabilities: {probabilities}\")"
   ]
  },
  {
   "cell_type": "markdown",
   "metadata": {},
   "source": [
    "# Model 3"
   ]
  },
  {
   "cell_type": "code",
   "execution_count": 4,
   "metadata": {},
   "outputs": [
    {
     "name": "stdout",
     "output_type": "stream",
     "text": [
      "\u001b[1m1/1\u001b[0m \u001b[32m━━━━━━━━━━━━━━━━━━━━\u001b[0m\u001b[37m\u001b[0m \u001b[1m1s\u001b[0m 604ms/step\n",
      "predicted class: Day - probabilities: [[1. 0. 0. 0. 0.]]\n"
     ]
    }
   ],
   "source": [
    "model = load_model(\"./models/model_3.keras\")\n",
    "probabilities = model.predict(img_array_expanded_dims)\n",
    "predicted_class = np.argmax(probabilities)\n",
    "print(f\"predicted class: {conditions[predicted_class]} - probabilities: {probabilities}\")"
   ]
  },
  {
   "cell_type": "markdown",
   "metadata": {},
   "source": [
    "# ResNet"
   ]
  },
  {
   "cell_type": "code",
   "execution_count": 5,
   "metadata": {},
   "outputs": [
    {
     "name": "stderr",
     "output_type": "stream",
     "text": [
      "/Users/abbasihsn/projects/weather classification/venv/lib/python3.11/site-packages/keras/src/saving/saving_lib.py:396: UserWarning: Skipping variable loading for optimizer 'adam', because it has 434 variables whereas the saved optimizer has 18 variables. \n",
      "  trackable.load_own_variables(weights_store.get(inner_path))\n"
     ]
    },
    {
     "name": "stdout",
     "output_type": "stream",
     "text": [
      "\u001b[1m1/1\u001b[0m \u001b[32m━━━━━━━━━━━━━━━━━━━━\u001b[0m\u001b[37m\u001b[0m \u001b[1m3s\u001b[0m 3s/step\n",
      "predicted class: Day - probabilities: [[9.2443967e-01 0.0000000e+00 7.5560264e-02 1.8197479e-22 0.0000000e+00]]\n"
     ]
    }
   ],
   "source": [
    "model = load_model(\"./models/model_resnet.keras\")\n",
    "probabilities = model.predict(img_array_expanded_dims)\n",
    "predicted_class = np.argmax(probabilities)\n",
    "print(f\"predicted class: {conditions[predicted_class]} - probabilities: {probabilities}\")"
   ]
  },
  {
   "cell_type": "markdown",
   "metadata": {},
   "source": [
    "# VGGNet"
   ]
  },
  {
   "cell_type": "code",
   "execution_count": 6,
   "metadata": {},
   "outputs": [
    {
     "name": "stderr",
     "output_type": "stream",
     "text": [
      "/Users/abbasihsn/projects/weather classification/venv/lib/python3.11/site-packages/keras/src/saving/saving_lib.py:396: UserWarning: Skipping variable loading for optimizer 'adam', because it has 62 variables whereas the saved optimizer has 22 variables. \n",
      "  trackable.load_own_variables(weights_store.get(inner_path))\n"
     ]
    },
    {
     "name": "stdout",
     "output_type": "stream",
     "text": [
      "WARNING:tensorflow:5 out of the last 5 calls to <function TensorFlowTrainer.make_predict_function.<locals>.one_step_on_data_distributed at 0x136c51760> triggered tf.function retracing. Tracing is expensive and the excessive number of tracings could be due to (1) creating @tf.function repeatedly in a loop, (2) passing tensors with different shapes, (3) passing Python objects instead of tensors. For (1), please define your @tf.function outside of the loop. For (2), @tf.function has reduce_retracing=True option that can avoid unnecessary retracing. For (3), please refer to https://www.tensorflow.org/guide/function#controlling_retracing and https://www.tensorflow.org/api_docs/python/tf/function for  more details.\n",
      "\u001b[1m1/1\u001b[0m \u001b[32m━━━━━━━━━━━━━━━━━━━━\u001b[0m\u001b[37m\u001b[0m \u001b[1m1s\u001b[0m 722ms/step\n",
      "predicted class: Day - probabilities: [[1. 0. 0. 0. 0.]]\n"
     ]
    }
   ],
   "source": [
    "model = load_model(\"./models/model_vggnet.keras\")\n",
    "probabilities = model.predict(img_array_expanded_dims)\n",
    "predicted_class = np.argmax(probabilities)\n",
    "print(f\"predicted class: {conditions[predicted_class]} - probabilities: {probabilities}\")"
   ]
  }
 ],
 "metadata": {
  "kernelspec": {
   "display_name": "venv",
   "language": "python",
   "name": "python3"
  },
  "language_info": {
   "codemirror_mode": {
    "name": "ipython",
    "version": 3
   },
   "file_extension": ".py",
   "mimetype": "text/x-python",
   "name": "python",
   "nbconvert_exporter": "python",
   "pygments_lexer": "ipython3",
   "version": "3.11.5"
  }
 },
 "nbformat": 4,
 "nbformat_minor": 2
}
